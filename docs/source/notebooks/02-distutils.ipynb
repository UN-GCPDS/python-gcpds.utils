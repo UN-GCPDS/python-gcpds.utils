{
 "cells": [
  {
   "cell_type": "markdown",
   "metadata": {},
   "source": [
    "# Distutils\n",
    "\n",
    "This tool launches a command-line application to create a Python package for the [GCPDS repository](https://github.com/UN-GCPDS), this package includes a configured [Sphinx documentation](https://www.sphinx-doc.org/en/master/) environment and a script example. "
   ]
  },
  {
   "cell_type": "markdown",
   "metadata": {},
   "source": [
    "## Create package\n",
    "\n",
    "Move the terminal to desired location and execute `gcpds_distutils` command"
   ]
  },
  {
   "cell_type": "raw",
   "metadata": {},
   "source": [
    "$ gcpds_distutils"
   ]
  },
  {
   "cell_type": "markdown",
   "metadata": {},
   "source": [
    "The application will ask about:"
   ]
  },
  {
   "cell_type": "markdown",
   "metadata": {},
   "source": [
    "``` plain\n",
    "> Package name:\n",
    "> Author:\n",
    "> Author email:\n",
    "> Maintainer:\n",
    "> Maintainer email: \n",
    "> Requieres (separated by comma):\n",
    "```"
   ]
  },
  {
   "cell_type": "markdown",
   "metadata": {},
   "source": [
    "After that, a new directory with the given `Package name` will be created:"
   ]
  },
  {
   "cell_type": "markdown",
   "metadata": {},
   "source": [
    "``` plain\n",
    "example/  #Package name created\n",
    "  gcpds/  # Namespace\n",
    "    dummy/\n",
    "      # Exmaple scripts\n",
    "      __init__.py\n",
    "      dummy.py\n",
    "      \n",
    "    example/\n",
    "      # Put here your main code\n",
    "      __init__.py\n",
    "      \n",
    "  notebooks/\n",
    "    # Documentation\n",
    "    01-dummy.ipynb\n",
    "    readme.ipynb\n",
    "    \n",
    "  docs/\n",
    "    ...\n",
    "    \n",
    "  LICENSE.txt  # NO EDIT THIS FILE!\n",
    "  README.md  # NO EDIT THIS FILE! \n",
    "  MANIFEST.in  # NO EDIT THIS FILE!\n",
    "  setup.py\n",
    "```"
   ]
  },
  {
   "cell_type": "markdown",
   "metadata": {},
   "source": [
    "## Add Python scripts\n",
    "\n",
    "### Add functions\n",
    "This example package was created for be imported like: `form gcpds import example`, let's assume that we have a function called `super_awesome_function()` and we want to call it with the sctructure `from gcpds.example import super_awesome_function`, then we must write own function in `example/gcpds/__init__.py`"
   ]
  },
  {
   "cell_type": "code",
   "execution_count": 7,
   "metadata": {},
   "outputs": [],
   "source": [
    "# example/gcpds/__init__.py\n",
    "\n",
    "def super_awesome_function(a: int, b: int) -> int:\n",
    "    \"\"\"Unnecessary funtion to compute power of a number.\"\"\"\n",
    "    \n",
    "    return a ** b"
   ]
  },
  {
   "cell_type": "markdown",
   "metadata": {},
   "source": [
    "NOTE: The [Type hint](https://docs.python.org/3/library/typing.html) is not necessary but recommended.\n"
   ]
  },
  {
   "cell_type": "markdown",
   "metadata": {},
   "source": [
    "### Add classes\n",
    "\n",
    "The best way to add a class is to write a new script file (avoid adding classes to `__inut__.py`)"
   ]
  },
  {
   "cell_type": "code",
   "execution_count": 10,
   "metadata": {},
   "outputs": [],
   "source": [
    "# example/gcpds/my_class.py\n",
    "\n",
    "class MyClass:\n",
    "    \"\"\"\"\"\"\n",
    "\n",
    "    def __init__(self):\n",
    "        \"\"\"Constructor\"\"\"\n",
    "\n",
    "    def super_awesome_function(self, a: int, b: int) -> int:\n",
    "        \"\"\"Unnecessary funtion to compute power of a number.\"\"\"\n",
    "\n",
    "        return a ** b\n",
    "\n",
    "    def super_awesome_function_improved(self, a: float, b: float) -> float:\n",
    "        \"\"\"Unnecessary funtion to compute power of a number.\"\"\"\n",
    "\n",
    "        return a ** b"
   ]
  },
  {
   "cell_type": "markdown",
   "metadata": {},
   "source": [
    "Then we can import `MyClass` with `from gcpds.example.my_class import MyClass`.  \n",
    "\n",
    "A better structure for call `MyClass` could be `from gcpds.example import MyClass`, for doing this we must edit the `__init__.py` file"
   ]
  },
  {
   "cell_type": "code",
   "execution_count": null,
   "metadata": {},
   "outputs": [],
   "source": [
    "# example/gcpds/__init__.py\n",
    "\n",
    "from .my_class import MyClass"
   ]
  },
  {
   "cell_type": "markdown",
   "metadata": {},
   "source": [
    "## Add documentation\n",
    "\n",
    "This package is configured to use notebooks as documentation, the **README** is located in `notebooks/readme.ipynb`, this file will compile as the main `README.md`. Any extra documentation must be added in this directory as notebooks, these notebooks will be included alphabetically in the main documentation."
   ]
  },
  {
   "cell_type": "markdown",
   "metadata": {},
   "source": [
    "### Compile documentation\n",
    "\n",
    "In the `docs` folder execute:"
   ]
  },
  {
   "cell_type": "raw",
   "metadata": {},
   "source": [
    "$ make clean buildapi html"
   ]
  },
  {
   "cell_type": "markdown",
   "metadata": {},
   "source": [
    "The documentation will be compiled to `docs/build/html/index.html`"
   ]
  },
  {
   "cell_type": "markdown",
   "metadata": {},
   "source": [
    "NOTE: Thi only works on GNU/Linux"
   ]
  }
 ],
 "metadata": {
  "kernelspec": {
   "display_name": "Python 3 (ipykernel)",
   "language": "python",
   "name": "python3"
  },
  "language_info": {
   "codemirror_mode": {
    "name": "ipython",
    "version": 3
   },
   "file_extension": ".py",
   "mimetype": "text/x-python",
   "name": "python",
   "nbconvert_exporter": "python",
   "pygments_lexer": "ipython3",
   "version": "3.10.6"
  }
 },
 "nbformat": 4,
 "nbformat_minor": 4
}
