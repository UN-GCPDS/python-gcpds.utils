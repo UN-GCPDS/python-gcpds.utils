{
 "cells": [
  {
   "cell_type": "code",
   "execution_count": 1,
   "metadata": {},
   "outputs": [],
   "source": [
    "import os"
   ]
  },
  {
   "cell_type": "markdown",
   "metadata": {},
   "source": [
    "# Databases handler"
   ]
  },
  {
   "cell_type": "markdown",
   "metadata": {},
   "source": [
    "With `gcpds.utils.loaddb` is possible load databases, select classes and electrodes, remove artifacts and create epochs for MNE tools. "
   ]
  },
  {
   "cell_type": "code",
   "execution_count": 2,
   "metadata": {},
   "outputs": [],
   "source": [
    "from gcpds.utils import loaddb"
   ]
  },
  {
   "cell_type": "markdown",
   "metadata": {},
   "source": [
    "To list the databases available"
   ]
  },
  {
   "cell_type": "code",
   "execution_count": 3,
   "metadata": {},
   "outputs": [
    {
     "data": {
      "text/plain": [
       "['GIGA',\n",
       " 'BCI2a',\n",
       " 'HighGamma',\n",
       " 'BCIilliteracy_MI',\n",
       " 'BCIilliteracy_ERP',\n",
       " 'BCIilliteracy_SSVEP',\n",
       " 'PhysionetMMI']"
      ]
     },
     "execution_count": 3,
     "metadata": {},
     "output_type": "execute_result"
    }
   ],
   "source": [
    "loaddb.available_databases"
   ]
  },
  {
   "cell_type": "markdown",
   "metadata": {},
   "source": [
    "For example if we want to use `BCI2a`, we must instatiate `loaddb.BCI2a` with the folder path that contains the database as argumment:"
   ]
  },
  {
   "cell_type": "code",
   "execution_count": 4,
   "metadata": {},
   "outputs": [],
   "source": [
    "db = loaddb.BCI2a('BCI2a_database')"
   ]
  },
  {
   "cell_type": "markdown",
   "metadata": {},
   "source": [
    "There is some base information for the database in the object `metadata`"
   ]
  },
  {
   "cell_type": "code",
   "execution_count": 5,
   "metadata": {},
   "outputs": [
    {
     "name": "stdout",
     "output_type": "stream",
     "text": [
      "['Fz', 'FC3', 'FC1', 'FCz', 'FC2', 'FC4', 'C5', 'C3', 'C1', 'Cz', 'C2', 'C4', 'C6', 'CP3', 'CP1', 'CPz', 'CP2', 'CP4', 'P1', 'Pz', 'P2', 'POz']\n",
      "['left hand', 'right hand', 'feet', 'tongue']\n",
      "standard_1020\n",
      "250\n"
     ]
    }
   ],
   "source": [
    "print(db.metadata['channel_names'])\n",
    "print(db.metadata['classes'])\n",
    "print(db.metadata['montage'])\n",
    "print(db.metadata['sampling_rate'])"
   ]
  },
  {
   "cell_type": "markdown",
   "metadata": {},
   "source": [
    "## Load Subject\n",
    "\n",
    "The data by subject can be accessed with the method `load_subject`, the `training` (default) or `evaluation` dataset can be selected with the argument `mode`."
   ]
  },
  {
   "cell_type": "code",
   "execution_count": 6,
   "metadata": {},
   "outputs": [
    {
     "name": "stdout",
     "output_type": "stream",
     "text": [
      "The subject 1 has 6 runs\n"
     ]
    }
   ],
   "source": [
    "db.load_subject(1, mode='training')  # training dataset\n",
    "db.load_subject(1, mode='evaluation')  # evaluation dataset\n",
    "\n",
    "print(f'The subject 1 has {db.runs} runs')"
   ]
  },
  {
   "cell_type": "markdown",
   "metadata": {},
   "source": [
    "NOTE: If the database does not exist or is corrupted, it will be downloaded; Not all databases have an `evaluation` dataset."
   ]
  },
  {
   "cell_type": "markdown",
   "metadata": {},
   "source": [
    "## Load runs\n",
    "\n",
    "After load a subject and when available, the trials can be read by runs."
   ]
  },
  {
   "cell_type": "code",
   "execution_count": 7,
   "metadata": {},
   "outputs": [
    {
     "data": {
      "text/plain": [
       "((45, 22, 1750), (45,))"
      ]
     },
     "execution_count": 7,
     "metadata": {},
     "output_type": "execute_result"
    }
   ],
   "source": [
    "# This will return all trials and all channels for run 0\n",
    "run, class_ = db.get_run(0)\n",
    "run.shape, class_.shape"
   ]
  },
  {
   "cell_type": "markdown",
   "metadata": {},
   "source": [
    "Is possible to get all data for all available runs with `get_data`:"
   ]
  },
  {
   "cell_type": "code",
   "execution_count": 8,
   "metadata": {},
   "outputs": [
    {
     "data": {
      "text/plain": [
       "(288, 22, 1750)"
      ]
     },
     "execution_count": 8,
     "metadata": {},
     "output_type": "execute_result"
    }
   ],
   "source": [
    "data, _ = db.get_data()\n",
    "data.shape"
   ]
  },
  {
   "cell_type": "markdown",
   "metadata": {},
   "source": [
    "The EEG data are sorted in `trials x channels x time`."
   ]
  },
  {
   "cell_type": "markdown",
   "metadata": {},
   "source": [
    "## Select classes and channels\n",
    "\n",
    "Is possible to select the runs by `channel` and/or `class`"
   ]
  },
  {
   "cell_type": "code",
   "execution_count": 9,
   "metadata": {},
   "outputs": [
    {
     "data": {
      "text/plain": [
       "((24, 2, 1750), (24,))"
      ]
     },
     "execution_count": 9,
     "metadata": {},
     "output_type": "execute_result"
    }
   ],
   "source": [
    "# This will return the first two classes (left hand, right hand) for the channels C3 and C4\n",
    "run, class_ = db.get_run(1, classes=['left hand', 'right hand'], channels=['C3', 'C4'])\n",
    "run.shape, class_.shape"
   ]
  },
  {
   "cell_type": "markdown",
   "metadata": {},
   "source": [
    "The classes and the channels can be indexes instead of labels:"
   ]
  },
  {
   "cell_type": "markdown",
   "metadata": {},
   "source": [
    "The channels indexes, by convention, are 1-based array."
   ]
  },
  {
   "cell_type": "code",
   "execution_count": 10,
   "metadata": {},
   "outputs": [
    {
     "data": {
      "text/plain": [
       "((144, 3, 1750), (144,))"
      ]
     },
     "execution_count": 10,
     "metadata": {},
     "output_type": "execute_result"
    }
   ],
   "source": [
    "run, class_ = db.get_data(classes=[1, 3], channels=[1, 5, 10])\n",
    "run.shape, class_.shape"
   ]
  },
  {
   "cell_type": "markdown",
   "metadata": {},
   "source": [
    "## Reject bad trials"
   ]
  },
  {
   "cell_type": "markdown",
   "metadata": {},
   "source": [
    "The argument `reject_bad_trials` is `True` by default and remove all **documented** bad trials, this means that no algorithms are implemented here, only the database owners recommendations."
   ]
  },
  {
   "cell_type": "code",
   "execution_count": 2,
   "metadata": {},
   "outputs": [
    {
     "name": "stdout",
     "output_type": "stream",
     "text": [
      "Cleaned trials shape:\t(178, 64, 3584)\n",
      "Raw trials shape:\t\t(200, 64, 3584)\n"
     ]
    }
   ],
   "source": [
    "db = loaddb.GIGA('GIGA')\n",
    "db.load_subject(6)\n",
    "\n",
    "trials_cln, _ = db.get_data(reject_bad_trials=True)\n",
    "trials_raw, _ = db.get_data(reject_bad_trials=False)\n",
    "\n",
    "print(f\"Cleaned trials shape:\\t{trials_cln.shape}\")\n",
    "print(f\"Raw trials shape:\\t\\t{trials_raw.shape}\")"
   ]
  },
  {
   "cell_type": "markdown",
   "metadata": {},
   "source": [
    "This argument is avalibale to for `get_run` methods:"
   ]
  },
  {
   "cell_type": "code",
   "execution_count": 7,
   "metadata": {},
   "outputs": [
    {
     "name": "stdout",
     "output_type": "stream",
     "text": [
      "Cleaned trials shape:\t(36, 64, 3584)\n",
      "Raw trials shape:\t\t(40, 64, 3584)\n"
     ]
    }
   ],
   "source": [
    "trials_cln, _ = db.get_run(0, reject_bad_trials=True)\n",
    "trials_raw, _ = db.get_run(0, reject_bad_trials=False)\n",
    "\n",
    "print(f\"Cleaned trials shape:\\t{trials_cln.shape}\")\n",
    "print(f\"Raw trials shape:\\t\\t{trials_raw.shape}\")"
   ]
  },
  {
   "cell_type": "markdown",
   "metadata": {},
   "source": [
    "## Download metadata\n",
    "\n",
    "Some databases has associated information like: papers, readme, contents; this metadata can be downloaded with the method `get_metadata()`, this will create a new folder called metadata."
   ]
  },
  {
   "cell_type": "code",
   "execution_count": 6,
   "metadata": {},
   "outputs": [
    {
     "name": "stdout",
     "output_type": "stream",
     "text": [
      "Downloading 1-59y5Q9Nt6L8dq_QMsYhlSfLV36_KLuN into GIGA/metadata/cho2017.pdf... \n"
     ]
    },
    {
     "data": {
      "application/vnd.jupyter.widget-view+json": {
       "model_id": "ca61966f283e4353bbe475b623eff096",
       "version_major": 2,
       "version_minor": 0
      },
      "text/plain": [
       "HBox(children=(FloatProgress(value=0.0, description='GIGA/metadata/cho2017.pdf', max=51.470489501953125, style…"
      ]
     },
     "metadata": {},
     "output_type": "display_data"
    },
    {
     "name": "stdout",
     "output_type": "stream",
     "text": [
      "\n",
      "Done.\n",
      "Downloading 12qRbFvF21OOOJZ_vrhRGWa2ykli2vpIs into GIGA/metadata/Questionnaire_results_of_52_subjects.xlsx... \n"
     ]
    },
    {
     "data": {
      "application/vnd.jupyter.widget-view+json": {
       "model_id": "7e3066253dae477990879673a20f0d78",
       "version_major": 2,
       "version_minor": 0
      },
      "text/plain": [
       "HBox(children=(FloatProgress(value=0.0, description='GIGA/metadata/Questionnaire_results_of_52_subjects.xlsx',…"
      ]
     },
     "metadata": {},
     "output_type": "display_data"
    },
    {
     "name": "stdout",
     "output_type": "stream",
     "text": [
      "\n",
      "Done.\n",
      "Downloading 12tko40nhuE2kFgFvJjanv_qE3FmH4wtJ into GIGA/metadata/readme.txt... \n"
     ]
    },
    {
     "data": {
      "application/vnd.jupyter.widget-view+json": {
       "model_id": "46533bf174cb48f3954379f3bbb82047",
       "version_major": 2,
       "version_minor": 0
      },
      "text/plain": [
       "HBox(children=(FloatProgress(value=0.0, description='GIGA/metadata/readme.txt', max=0.068267822265625, style=P…"
      ]
     },
     "metadata": {},
     "output_type": "display_data"
    },
    {
     "name": "stdout",
     "output_type": "stream",
     "text": [
      "\n",
      "Done.\n",
      "Downloading 12ums2JR9Wr_PaI9t46sJrubMo82Uzigi into GIGA/metadata/trial_sequence.zip... \n"
     ]
    },
    {
     "data": {
      "application/vnd.jupyter.widget-view+json": {
       "model_id": "4fb4e700493346e2824e204879ff6d02",
       "version_major": 2,
       "version_minor": 0
      },
      "text/plain": [
       "HBox(children=(FloatProgress(value=0.0, description='GIGA/metadata/trial_sequence.zip', max=1.278961181640625,…"
      ]
     },
     "metadata": {},
     "output_type": "display_data"
    },
    {
     "name": "stdout",
     "output_type": "stream",
     "text": [
      "\n",
      "Done.\n"
     ]
    },
    {
     "data": {
      "text/plain": [
       "['Questionnaire_results_of_52_subjects.xlsx',\n",
       " 'cho2017.pdf',\n",
       " 'readme.txt',\n",
       " 'trial_sequence.zip']"
      ]
     },
     "execution_count": 6,
     "metadata": {},
     "output_type": "execute_result"
    }
   ],
   "source": [
    "db = loaddb.GIGA('GIGA')\n",
    "db.get_metadata()\n",
    "\n",
    "os.listdir(os.path.join('GIGA', 'metadata'))"
   ]
  },
  {
   "cell_type": "markdown",
   "metadata": {},
   "source": [
    "----\n",
    "### References\n",
    "\n",
    "  * Cho, H., Ahn, M., & Ahn, S. (2017). Supporting data for “EEG datasets for motor imagery brain computer interface.”. GigaScience Database.\n",
    "  * Brunner, C., Leeb, R., Müller-Putz, G., Schlögl, A., & Pfurtscheller, G. (2008). BCI Competition 2008–Graz data set A. Institute for Knowledge Discovery (Laboratory of Brain-Computer Interfaces), Graz University of Technology, 16.\n",
    "  * Schirrmeister, R. T., Springenberg, J. T., Fiederer, L. D. J., Glasstetter, M., Eggensperger, K., Tangermann, M., ... & Ball, T. (2017). Deep learning with convolutional neural networks for EEG decoding and visualization. Human brain mapping, 38(11), 5391-5420."
   ]
  }
 ],
 "metadata": {
  "kernelspec": {
   "display_name": "Python 3",
   "language": "python",
   "name": "python3"
  },
  "language_info": {
   "codemirror_mode": {
    "name": "ipython",
    "version": 3
   },
   "file_extension": ".py",
   "mimetype": "text/x-python",
   "name": "python",
   "nbconvert_exporter": "python",
   "pygments_lexer": "ipython3",
   "version": "3.9.2"
  }
 },
 "nbformat": 4,
 "nbformat_minor": 4
}
