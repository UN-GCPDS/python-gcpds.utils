{
 "cells": [
  {
   "cell_type": "code",
   "execution_count": 1,
   "id": "ccbbcb4e-ed04-46d5-b4ef-a5a1f10cedb5",
   "metadata": {},
   "outputs": [],
   "source": [
    "from gcpds.utils import loaddb"
   ]
  },
  {
   "cell_type": "code",
   "execution_count": 2,
   "id": "51e38882-6c92-44ed-91e2-e71a35b1f98e",
   "metadata": {},
   "outputs": [],
   "source": [
    "db = loaddb.GIGA_BCI_MI()"
   ]
  },
  {
   "cell_type": "code",
   "execution_count": 3,
   "id": "4ddd2989-f8b1-4eea-97bb-8c9cded6cef8",
   "metadata": {},
   "outputs": [
    {
     "name": "stderr",
     "output_type": "stream",
     "text": [
      "WARNING:GCPDS:utils:Database not found!\n",
      "WARNING:GCPDS:utils:downloading...\n"
     ]
    },
    {
     "name": "stdout",
     "output_type": "stream",
     "text": [
      "Downloading 1-0EV91MdywTNi1Cqjrot7rtHbgjjkGEf into databases/HighGamma-ME/train/1.mat... \n"
     ]
    },
    {
     "data": {
      "application/vnd.jupyter.widget-view+json": {
       "model_id": "fa4b0779bd5d4cc69fcc597687cf4bc6",
       "version_major": 2,
       "version_minor": 0
      },
      "text/plain": [
       "databases/HighGamma-ME/train/1.mat:   0%|          | 0.00/17.5k [00:00<?, ?B/s]"
      ]
     },
     "metadata": {},
     "output_type": "display_data"
    },
    {
     "name": "stdout",
     "output_type": "stream",
     "text": [
      "Done.\n"
     ]
    }
   ],
   "source": [
    "db.load_subject(1)"
   ]
  },
  {
   "cell_type": "code",
   "execution_count": 3,
   "id": "4e62feb1-54f7-4457-b534-c9677c9a459a",
   "metadata": {},
   "outputs": [
    {
     "ename": "AttributeError",
     "evalue": "'HighGamma_ME' object has no attribute 'runs'",
     "output_type": "error",
     "traceback": [
      "\u001b[0;31m---------------------------------------------------------------------------\u001b[0m",
      "\u001b[0;31mAttributeError\u001b[0m                            Traceback (most recent call last)",
      "\u001b[0;32m<ipython-input-3-df9dbdf8caa2>\u001b[0m in \u001b[0;36m<module>\u001b[0;34m\u001b[0m\n\u001b[0;32m----> 1\u001b[0;31m \u001b[0mdb\u001b[0m\u001b[0;34m.\u001b[0m\u001b[0mget_data\u001b[0m\u001b[0;34m(\u001b[0m\u001b[0mclasses\u001b[0m\u001b[0;34m=\u001b[0m\u001b[0;34m[\u001b[0m\u001b[0;34m'right hand'\u001b[0m\u001b[0;34m,\u001b[0m \u001b[0;34m'left hand'\u001b[0m\u001b[0;34m,\u001b[0m \u001b[0;34m'rest'\u001b[0m\u001b[0;34m,\u001b[0m \u001b[0;34m'feet'\u001b[0m\u001b[0;34m]\u001b[0m\u001b[0;34m,\u001b[0m \u001b[0mchannels\u001b[0m\u001b[0;34m=\u001b[0m\u001b[0;34m[\u001b[0m\u001b[0;34m'Fp1'\u001b[0m\u001b[0;34m,\u001b[0m \u001b[0;34m'Fp2'\u001b[0m\u001b[0;34m,\u001b[0m \u001b[0;34m'Fpz'\u001b[0m\u001b[0;34m]\u001b[0m\u001b[0;34m)\u001b[0m\u001b[0;34m\u001b[0m\u001b[0;34m\u001b[0m\u001b[0m\n\u001b[0m",
      "\u001b[0;32m~/Development/GCPDS/python-gcpds.utils/docs/source/notebooks/gcpds/utils/loaddb/base.py\u001b[0m in \u001b[0;36mget_data\u001b[0;34m(self, classes, channels, reject_bad_trials, keep_runs_separated)\u001b[0m\n\u001b[1;32m    208\u001b[0m \u001b[0;34m\u001b[0m\u001b[0m\n\u001b[1;32m    209\u001b[0m         \u001b[0;32melse\u001b[0m\u001b[0;34m:\u001b[0m\u001b[0;34m\u001b[0m\u001b[0;34m\u001b[0m\u001b[0m\n\u001b[0;32m--> 210\u001b[0;31m             r, c = self.get_run(\n\u001b[0m\u001b[1;32m    211\u001b[0m                 0, classes=classes, channels=channels, reject_bad_trials=reject_bad_trials)\n\u001b[1;32m    212\u001b[0m             \u001b[0;32mfor\u001b[0m \u001b[0mrun\u001b[0m \u001b[0;32min\u001b[0m \u001b[0mrange\u001b[0m\u001b[0;34m(\u001b[0m\u001b[0;36m1\u001b[0m\u001b[0;34m,\u001b[0m \u001b[0mself\u001b[0m\u001b[0;34m.\u001b[0m\u001b[0mruns\u001b[0m\u001b[0;34m)\u001b[0m\u001b[0;34m:\u001b[0m\u001b[0;34m\u001b[0m\u001b[0;34m\u001b[0m\u001b[0m\n",
      "\u001b[0;32m~/Development/GCPDS/python-gcpds.utils/docs/source/notebooks/gcpds/utils/loaddb/loaddb.py\u001b[0m in \u001b[0;36mget_run\u001b[0;34m(self, run, classes, channels, reject_bad_trials)\u001b[0m\n\u001b[1;32m    242\u001b[0m         \u001b[0mclasses\u001b[0m \u001b[0;34m=\u001b[0m \u001b[0mself\u001b[0m\u001b[0;34m.\u001b[0m\u001b[0mformat_class_selector\u001b[0m\u001b[0;34m(\u001b[0m\u001b[0mclasses\u001b[0m\u001b[0;34m)\u001b[0m\u001b[0;34m\u001b[0m\u001b[0;34m\u001b[0m\u001b[0m\n\u001b[1;32m    243\u001b[0m         \u001b[0mchannels\u001b[0m \u001b[0;34m=\u001b[0m \u001b[0mself\u001b[0m\u001b[0;34m.\u001b[0m\u001b[0mformat_channels_selectors\u001b[0m\u001b[0;34m(\u001b[0m\u001b[0mchannels\u001b[0m\u001b[0;34m)\u001b[0m\u001b[0;34m\u001b[0m\u001b[0;34m\u001b[0m\u001b[0m\n\u001b[0;32m--> 244\u001b[0;31m         \u001b[0msuper\u001b[0m\u001b[0;34m(\u001b[0m\u001b[0;34m)\u001b[0m\u001b[0;34m.\u001b[0m\u001b[0mget_run\u001b[0m\u001b[0;34m(\u001b[0m\u001b[0mrun\u001b[0m\u001b[0;34m,\u001b[0m \u001b[0mclasses\u001b[0m\u001b[0;34m,\u001b[0m \u001b[0mchannels\u001b[0m\u001b[0;34m,\u001b[0m \u001b[0mreject_bad_trials\u001b[0m\u001b[0;34m)\u001b[0m\u001b[0;34m\u001b[0m\u001b[0;34m\u001b[0m\u001b[0m\n\u001b[0m\u001b[1;32m    245\u001b[0m \u001b[0;34m\u001b[0m\u001b[0m\n\u001b[1;32m    246\u001b[0m         \u001b[0mclasses_list\u001b[0m \u001b[0;34m=\u001b[0m \u001b[0mself\u001b[0m\u001b[0;34m.\u001b[0m\u001b[0mdata_mrk\u001b[0m\u001b[0;34m.\u001b[0m\u001b[0mevent\u001b[0m\u001b[0;34m.\u001b[0m\u001b[0mdesc\u001b[0m\u001b[0;34m.\u001b[0m\u001b[0mread\u001b[0m\u001b[0;34m(\u001b[0m\u001b[0;34m)\u001b[0m\u001b[0;34m[\u001b[0m\u001b[0;36m0\u001b[0m\u001b[0;34m]\u001b[0m\u001b[0;34m\u001b[0m\u001b[0;34m\u001b[0m\u001b[0m\n",
      "\u001b[0;32m~/Development/GCPDS/python-gcpds.utils/docs/source/notebooks/gcpds/utils/loaddb/base.py\u001b[0m in \u001b[0;36mget_run\u001b[0;34m(self, run, classes, channels, reject_bad_trials)\u001b[0m\n\u001b[1;32m    190\u001b[0m     \u001b[0;32mdef\u001b[0m \u001b[0mget_run\u001b[0m\u001b[0;34m(\u001b[0m\u001b[0mself\u001b[0m\u001b[0;34m,\u001b[0m \u001b[0mrun\u001b[0m\u001b[0;34m:\u001b[0m \u001b[0mint\u001b[0m\u001b[0;34m,\u001b[0m \u001b[0mclasses\u001b[0m\u001b[0;34m:\u001b[0m \u001b[0mUnion\u001b[0m\u001b[0;34m[\u001b[0m\u001b[0mint\u001b[0m\u001b[0;34m,\u001b[0m \u001b[0mstr\u001b[0m\u001b[0;34m]\u001b[0m\u001b[0;34m,\u001b[0m \u001b[0mchannels\u001b[0m\u001b[0;34m=\u001b[0m\u001b[0mUnion\u001b[0m\u001b[0;34m[\u001b[0m\u001b[0mint\u001b[0m\u001b[0;34m,\u001b[0m \u001b[0mstr\u001b[0m\u001b[0;34m]\u001b[0m\u001b[0;34m,\u001b[0m \u001b[0mreject_bad_trials\u001b[0m\u001b[0;34m:\u001b[0m \u001b[0mOptional\u001b[0m\u001b[0;34m[\u001b[0m\u001b[0mbool\u001b[0m\u001b[0;34m]\u001b[0m \u001b[0;34m=\u001b[0m \u001b[0;32mTrue\u001b[0m\u001b[0;34m)\u001b[0m \u001b[0;34m->\u001b[0m \u001b[0mnp\u001b[0m\u001b[0;34m.\u001b[0m\u001b[0mndarray\u001b[0m\u001b[0;34m:\u001b[0m\u001b[0;34m\u001b[0m\u001b[0;34m\u001b[0m\u001b[0m\n\u001b[1;32m    191\u001b[0m         \u001b[0;34m\"\"\"\"\"\"\u001b[0m\u001b[0;34m\u001b[0m\u001b[0;34m\u001b[0m\u001b[0m\n\u001b[0;32m--> 192\u001b[0;31m         \u001b[0;32mif\u001b[0m \u001b[0mrun\u001b[0m \u001b[0;34m>\u001b[0m \u001b[0mself\u001b[0m\u001b[0;34m.\u001b[0m\u001b[0mruns\u001b[0m\u001b[0;34m:\u001b[0m\u001b[0;34m\u001b[0m\u001b[0;34m\u001b[0m\u001b[0m\n\u001b[0m\u001b[1;32m    193\u001b[0m             \u001b[0;32mraise\u001b[0m \u001b[0mException\u001b[0m\u001b[0;34m(\u001b[0m\u001b[0;34mf'The current user only have {self.runs} runs.'\u001b[0m\u001b[0;34m)\u001b[0m\u001b[0;34m\u001b[0m\u001b[0;34m\u001b[0m\u001b[0m\n\u001b[1;32m    194\u001b[0m \u001b[0;34m\u001b[0m\u001b[0m\n",
      "\u001b[0;31mAttributeError\u001b[0m: 'HighGamma_ME' object has no attribute 'runs'"
     ]
    }
   ],
   "source": [
    "db.get_data(classes=['right hand', 'left hand', 'rest', 'feet'], channels=['Fp1', 'Fp2', 'Fpz'])"
   ]
  },
  {
   "cell_type": "code",
   "execution_count": 13,
   "id": "c57c84bd-6b50-4551-8f84-772f0efc0a21",
   "metadata": {},
   "outputs": [
    {
     "data": {
      "text/plain": [
       "['pre task',\n",
       " 'post task',\n",
       " 'eyemovement_blinking',\n",
       " 'eyemovement_horizen',\n",
       " 'eyemovement_vertical',\n",
       " 'teeth',\n",
       " 'EMG_bothHandGrasping']"
      ]
     },
     "execution_count": 13,
     "metadata": {},
     "output_type": "execute_result"
    }
   ],
   "source": [
    "db.metadata['non_task_classes']"
   ]
  },
  {
   "cell_type": "code",
   "execution_count": 6,
   "id": "e7beed08-acbe-4fa2-9970-95815559870d",
   "metadata": {},
   "outputs": [],
   "source": [
    "non_tasks = db.non_task(['teeth'])"
   ]
  },
  {
   "cell_type": "code",
   "execution_count": 9,
   "id": "1e83e85b-91a4-4f41-b659-25fbb75e964e",
   "metadata": {},
   "outputs": [
    {
     "data": {
      "text/plain": [
       "(64, 34048)"
      ]
     },
     "execution_count": 9,
     "metadata": {},
     "output_type": "execute_result"
    }
   ],
   "source": [
    "#Resting\n",
    "non_tasks[0].shape"
   ]
  },
  {
   "cell_type": "code",
   "execution_count": 11,
   "id": "6dacc8e6-bfb4-4f15-b04b-0780b9e02b89",
   "metadata": {},
   "outputs": [
    {
     "data": {
      "text/plain": [
       "[(64, 34048), (64, 5120), (64, 5120), (64, 5120), (64, 5120), (64, 5120)]"
      ]
     },
     "execution_count": 11,
     "metadata": {},
     "output_type": "execute_result"
    }
   ],
   "source": [
    "non_tasks = db.non_task()\n",
    "\n",
    "#Resting, noise-1, noise-2, noise-3, noise-4, noise-5\n",
    "[nt.shape for nt in non_tasks]"
   ]
  },
  {
   "cell_type": "code",
   "execution_count": 15,
   "id": "ed2f584a-67cd-4ac3-885b-ca4e299fd77b",
   "metadata": {},
   "outputs": [
    {
     "data": {
      "text/plain": [
       "[(2, 34048), (2, 5120), (2, 5120), (2, 5120), (2, 5120), (2, 5120)]"
      ]
     },
     "execution_count": 15,
     "metadata": {},
     "output_type": "execute_result"
    }
   ],
   "source": [
    "non_tasks = db.non_task(channels=['C3', 'C4'])\n",
    "\n",
    "#Resting, noise-1, noise-2, noise-3, noise-4, noise-5\n",
    "[nt.shape for nt in non_tasks]"
   ]
  },
  {
   "cell_type": "code",
   "execution_count": 35,
   "id": "5bd6f148-cc17-43bb-923d-3f51a2f81fae",
   "metadata": {},
   "outputs": [],
   "source": [
    "db.load_subject(1, mode='training')\n",
    "run1, run2 = db.get_data(keep_runs_separated=True)"
   ]
  },
  {
   "cell_type": "code",
   "execution_count": 36,
   "id": "2cb6745c-d484-44a4-b969-d6e8197585a5",
   "metadata": {},
   "outputs": [
    {
     "data": {
      "text/plain": [
       "((100, 62, 7000), 100)"
      ]
     },
     "execution_count": 36,
     "metadata": {},
     "output_type": "execute_result"
    }
   ],
   "source": [
    "run, classes = run1\n",
    "run.shape, len(classes)"
   ]
  },
  {
   "cell_type": "code",
   "execution_count": 37,
   "id": "2ac6a927-82e2-4541-a958-8bd81b10c484",
   "metadata": {},
   "outputs": [
    {
     "data": {
      "text/plain": [
       "((100, 62, 7000), 100)"
      ]
     },
     "execution_count": 37,
     "metadata": {},
     "output_type": "execute_result"
    }
   ],
   "source": [
    "run, classes = run2\n",
    "run.shape, len(classes)"
   ]
  },
  {
   "cell_type": "code",
   "execution_count": 38,
   "id": "199ee5e0-5151-419e-b862-9c4dd8333ff8",
   "metadata": {},
   "outputs": [],
   "source": [
    "db.load_subject(1, mode='evaluation')\n",
    "run1, run2 = db.get_data(keep_runs_separated=True)"
   ]
  },
  {
   "cell_type": "code",
   "execution_count": 39,
   "id": "73a0823c-0006-4746-bc88-87a5834138b2",
   "metadata": {},
   "outputs": [
    {
     "data": {
      "text/plain": [
       "((100, 62, 7000), 100)"
      ]
     },
     "execution_count": 39,
     "metadata": {},
     "output_type": "execute_result"
    }
   ],
   "source": [
    "run, classes = run1\n",
    "run.shape, len(classes)"
   ]
  },
  {
   "cell_type": "code",
   "execution_count": 40,
   "id": "ad76c5bf-c73e-4ac6-a24c-93983615d9e1",
   "metadata": {},
   "outputs": [
    {
     "data": {
      "text/plain": [
       "((100, 62, 7000), 100)"
      ]
     },
     "execution_count": 40,
     "metadata": {},
     "output_type": "execute_result"
    }
   ],
   "source": [
    "run, classes = run2\n",
    "run.shape, len(classes)"
   ]
  },
  {
   "cell_type": "code",
   "execution_count": null,
   "id": "94067a41-5ce5-44d0-800a-f355c0135e50",
   "metadata": {},
   "outputs": [],
   "source": []
  }
 ],
 "metadata": {
  "kernelspec": {
   "display_name": "Python 3",
   "language": "python",
   "name": "python3"
  },
  "language_info": {
   "codemirror_mode": {
    "name": "ipython",
    "version": 3
   },
   "file_extension": ".py",
   "mimetype": "text/x-python",
   "name": "python",
   "nbconvert_exporter": "python",
   "pygments_lexer": "ipython3",
   "version": "3.9.6"
  }
 },
 "nbformat": 4,
 "nbformat_minor": 5
}
