{
 "cells": [
  {
   "cell_type": "code",
   "execution_count": 1,
   "id": "ccbbcb4e-ed04-46d5-b4ef-a5a1f10cedb5",
   "metadata": {},
   "outputs": [],
   "source": [
    "from gcpds.utils import loaddb"
   ]
  },
  {
   "cell_type": "code",
   "execution_count": 2,
   "id": "51e38882-6c92-44ed-91e2-e71a35b1f98e",
   "metadata": {},
   "outputs": [],
   "source": [
    "db = loaddb.AuditoryProcessing()"
   ]
  },
  {
   "cell_type": "code",
   "execution_count": 3,
   "id": "4ddd2989-f8b1-4eea-97bb-8c9cded6cef8",
   "metadata": {},
   "outputs": [
    {
     "name": "stderr",
     "output_type": "stream",
     "text": [
      "WARNING:GCPDS:utils:Database not found!\n",
      "WARNING:GCPDS:utils:downloading...\n"
     ]
    },
    {
     "name": "stdout",
     "output_type": "stream",
     "text": [
      "Downloading 1Cv17qbnJEhyMRTes9GK1wduiATCJn3fl into databases/Auditory_processing/P1_BCMI_frontHN_2017.mat... \n"
     ]
    },
    {
     "data": {
      "application/vnd.jupyter.widget-view+json": {
       "model_id": "e1586b601ef34f6ba1eb6cb767fb1489",
       "version_major": 2,
       "version_minor": 0
      },
      "text/plain": [
       "databases/Auditory_processing/P1_BCMI_frontHN_2017.mat:   0%|          | 0.00/1.07k [00:00<?, ?B/s]"
      ]
     },
     "metadata": {},
     "output_type": "display_data"
    },
    {
     "name": "stdout",
     "output_type": "stream",
     "text": [
      "Done.\n"
     ]
    }
   ],
   "source": [
    "db.load_subject(1)"
   ]
  },
  {
   "cell_type": "code",
   "execution_count": 4,
   "id": "c57c84bd-6b50-4551-8f84-772f0efc0a21",
   "metadata": {},
   "outputs": [
    {
     "data": {
      "text/plain": [
       "['resting']"
      ]
     },
     "execution_count": 4,
     "metadata": {},
     "output_type": "execute_result"
    }
   ],
   "source": [
    "db.metadata['non_task_classes']"
   ]
  },
  {
   "cell_type": "code",
   "execution_count": 6,
   "id": "e7beed08-acbe-4fa2-9970-95815559870d",
   "metadata": {},
   "outputs": [],
   "source": [
    "non_tasks = db.non_task(['resting'])"
   ]
  },
  {
   "cell_type": "code",
   "execution_count": 9,
   "id": "1e83e85b-91a4-4f41-b659-25fbb75e964e",
   "metadata": {},
   "outputs": [
    {
     "data": {
      "text/plain": [
       "(64, 34048)"
      ]
     },
     "execution_count": 9,
     "metadata": {},
     "output_type": "execute_result"
    }
   ],
   "source": [
    "#Resting\n",
    "non_tasks[0].shape"
   ]
  },
  {
   "cell_type": "code",
   "execution_count": 11,
   "id": "6dacc8e6-bfb4-4f15-b04b-0780b9e02b89",
   "metadata": {},
   "outputs": [
    {
     "data": {
      "text/plain": [
       "[(64, 34048), (64, 5120), (64, 5120), (64, 5120), (64, 5120), (64, 5120)]"
      ]
     },
     "execution_count": 11,
     "metadata": {},
     "output_type": "execute_result"
    }
   ],
   "source": [
    "non_tasks = db.non_task()\n",
    "\n",
    "#Resting, noise-1, noise-2, noise-3, noise-4, noise-5\n",
    "[nt.shape for nt in non_tasks]"
   ]
  },
  {
   "cell_type": "code",
   "execution_count": 15,
   "id": "ed2f584a-67cd-4ac3-885b-ca4e299fd77b",
   "metadata": {},
   "outputs": [
    {
     "data": {
      "text/plain": [
       "[(2, 34048), (2, 5120), (2, 5120), (2, 5120), (2, 5120), (2, 5120)]"
      ]
     },
     "execution_count": 15,
     "metadata": {},
     "output_type": "execute_result"
    }
   ],
   "source": [
    "non_tasks = db.non_task(channels=['C3', 'C4'])\n",
    "\n",
    "#Resting, noise-1, noise-2, noise-3, noise-4, noise-5\n",
    "[nt.shape for nt in non_tasks]"
   ]
  },
  {
   "cell_type": "code",
   "execution_count": null,
   "id": "5bd6f148-cc17-43bb-923d-3f51a2f81fae",
   "metadata": {},
   "outputs": [],
   "source": []
  }
 ],
 "metadata": {
  "kernelspec": {
   "display_name": "Python 3",
   "language": "python",
   "name": "python3"
  },
  "language_info": {
   "codemirror_mode": {
    "name": "ipython",
    "version": 3
   },
   "file_extension": ".py",
   "mimetype": "text/x-python",
   "name": "python",
   "nbconvert_exporter": "python",
   "pygments_lexer": "ipython3",
   "version": "3.9.5"
  }
 },
 "nbformat": 4,
 "nbformat_minor": 5
}
