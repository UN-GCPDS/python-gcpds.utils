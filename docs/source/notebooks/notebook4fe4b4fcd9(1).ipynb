{
 "cells": [
  {
   "cell_type": "code",
   "execution_count": 1,
   "metadata": {},
   "outputs": [
    {
     "name": "stdout",
     "output_type": "stream",
     "text": [
      "Note: you may need to restart the kernel to use updated packages.\n"
     ]
    }
   ],
   "source": [
    "pip install git+https://github.com/UN-GCPDS/python-gcpds.utils.git >> /bin/null"
   ]
  },
  {
   "cell_type": "code",
   "execution_count": 2,
   "metadata": {},
   "outputs": [
    {
     "name": "stdout",
     "output_type": "stream",
     "text": [
      "Note: you may need to restart the kernel to use updated packages.\n"
     ]
    }
   ],
   "source": [
    "pip install -U mne >> /bin/null"
   ]
  },
  {
   "cell_type": "code",
   "execution_count": 3,
   "metadata": {
    "_cell_guid": "79c7e3d0-c299-4dcb-8224-4455121ee9b0",
    "_uuid": "d629ff2d2480ee46fbb7e2d37f6b5fab8052498a"
   },
   "outputs": [
    {
     "name": "stdout",
     "output_type": "stream",
     "text": [
      "--2020-11-18 19:27:39--  https://docs.google.com/uc?export=download&confirm=&id=1A2a60KUPxtUboqlb8B6Q0U-OygVmS_wK\n",
      "Resolving docs.google.com (docs.google.com)... 142.250.98.139, 142.250.98.100, 142.250.98.102, ...\n",
      "Connecting to docs.google.com (docs.google.com)|142.250.98.139|:443... connected.\n",
      "HTTP request sent, awaiting response... 302 Moved Temporarily\n",
      "Location: https://doc-04-30-docs.googleusercontent.com/docs/securesc/uq1phb8r3kcoo72pgergrn4jd118klrf/7er5imqi7ho564akqmbq48psnhbgdgrp/1605727650000/06932581800131476027/12138206307133348885Z/1A2a60KUPxtUboqlb8B6Q0U-OygVmS_wK?e=download [following]\n",
      "--2020-11-18 19:27:39--  https://doc-04-30-docs.googleusercontent.com/docs/securesc/uq1phb8r3kcoo72pgergrn4jd118klrf/7er5imqi7ho564akqmbq48psnhbgdgrp/1605727650000/06932581800131476027/12138206307133348885Z/1A2a60KUPxtUboqlb8B6Q0U-OygVmS_wK?e=download\n",
      "Resolving doc-04-30-docs.googleusercontent.com (doc-04-30-docs.googleusercontent.com)... 173.194.217.132, 2607:f8b0:400c:c13::84\n",
      "Connecting to doc-04-30-docs.googleusercontent.com (doc-04-30-docs.googleusercontent.com)|173.194.217.132|:443... connected.\n",
      "HTTP request sent, awaiting response... 302 Found\n",
      "Location: https://docs.google.com/nonceSigner?nonce=8u3fc7vfmlhvk&continue=https://doc-04-30-docs.googleusercontent.com/docs/securesc/uq1phb8r3kcoo72pgergrn4jd118klrf/7er5imqi7ho564akqmbq48psnhbgdgrp/1605727650000/06932581800131476027/12138206307133348885Z/1A2a60KUPxtUboqlb8B6Q0U-OygVmS_wK?e%3Ddownload&hash=4nigeonh4t8u2q3skvf3j6vesv2e4sbm [following]\n",
      "--2020-11-18 19:27:39--  https://docs.google.com/nonceSigner?nonce=8u3fc7vfmlhvk&continue=https://doc-04-30-docs.googleusercontent.com/docs/securesc/uq1phb8r3kcoo72pgergrn4jd118klrf/7er5imqi7ho564akqmbq48psnhbgdgrp/1605727650000/06932581800131476027/12138206307133348885Z/1A2a60KUPxtUboqlb8B6Q0U-OygVmS_wK?e%3Ddownload&hash=4nigeonh4t8u2q3skvf3j6vesv2e4sbm\n",
      "Connecting to docs.google.com (docs.google.com)|142.250.98.139|:443... connected.\n",
      "HTTP request sent, awaiting response... 302 Found\n",
      "Location: https://doc-04-30-docs.googleusercontent.com/docs/securesc/uq1phb8r3kcoo72pgergrn4jd118klrf/7er5imqi7ho564akqmbq48psnhbgdgrp/1605727650000/06932581800131476027/12138206307133348885Z/1A2a60KUPxtUboqlb8B6Q0U-OygVmS_wK?e=download&nonce=8u3fc7vfmlhvk&user=12138206307133348885Z&hash=7gbbg116f9p6m67qk2notgc3krs1f41t [following]\n",
      "--2020-11-18 19:27:39--  https://doc-04-30-docs.googleusercontent.com/docs/securesc/uq1phb8r3kcoo72pgergrn4jd118klrf/7er5imqi7ho564akqmbq48psnhbgdgrp/1605727650000/06932581800131476027/12138206307133348885Z/1A2a60KUPxtUboqlb8B6Q0U-OygVmS_wK?e=download&nonce=8u3fc7vfmlhvk&user=12138206307133348885Z&hash=7gbbg116f9p6m67qk2notgc3krs1f41t\n",
      "Connecting to doc-04-30-docs.googleusercontent.com (doc-04-30-docs.googleusercontent.com)|173.194.217.132|:443... connected.\n",
      "HTTP request sent, awaiting response... 200 OK\n",
      "Length: 6933 (6.8K) [text/plain]\n",
      "Saving to: ‘CKA_keras.py’\n",
      "\n",
      "CKA_keras.py        100%[===================>]   6.77K  --.-KB/s    in 0s      \n",
      "\n",
      "2020-11-18 19:27:40 (57.2 MB/s) - ‘CKA_keras.py’ saved [6933/6933]\n",
      "\n",
      "CKA_keras.py  __notebook_source__.ipynb\n"
     ]
    }
   ],
   "source": [
    "FILEID = \"1A2a60KUPxtUboqlb8B6Q0U-OygVmS_wK\"\n",
    "!wget --load-cookies /tmp/cookies.txt \"https://docs.google.com/uc?export=download&confirm=$(wget --quiet --save-cookies /tmp/cookies.txt --keep-session-cookies --no-check-certificate 'https://docs.google.com/uc?export=download&id='$FILEID -O- | sed -rn 's/.*confirm=([0-9A-Za-z_]+).*/\\1\\n/p')&id=\"$FILEID -O CKA_keras.py && rm -rf /tmp/cookies.txt\n",
    "!dir"
   ]
  },
  {
   "cell_type": "code",
   "execution_count": 4,
   "metadata": {},
   "outputs": [
    {
     "name": "stdout",
     "output_type": "stream",
     "text": [
      "--2020-11-18 19:27:42--  https://docs.google.com/uc?export=download&confirm=&id=1DOm75xoSPUbnFfcJBjVggPS0hzNEoWCG\n",
      "Resolving docs.google.com (docs.google.com)... 142.250.98.139, 142.250.98.102, 142.250.98.100, ...\n",
      "Connecting to docs.google.com (docs.google.com)|142.250.98.139|:443... connected.\n",
      "HTTP request sent, awaiting response... 302 Moved Temporarily\n",
      "Location: https://doc-0g-6k-docs.googleusercontent.com/docs/securesc/4vdmbgdamk6n8usaqumtmapnhkcfm287/umvnt3hujmvhj54pre0d843cl2d8slrs/1605727650000/06932581800131476027/15954235057872334163Z/1DOm75xoSPUbnFfcJBjVggPS0hzNEoWCG?e=download [following]\n",
      "--2020-11-18 19:27:42--  https://doc-0g-6k-docs.googleusercontent.com/docs/securesc/4vdmbgdamk6n8usaqumtmapnhkcfm287/umvnt3hujmvhj54pre0d843cl2d8slrs/1605727650000/06932581800131476027/15954235057872334163Z/1DOm75xoSPUbnFfcJBjVggPS0hzNEoWCG?e=download\n",
      "Resolving doc-0g-6k-docs.googleusercontent.com (doc-0g-6k-docs.googleusercontent.com)... 173.194.217.132, 2607:f8b0:400c:c13::84\n",
      "Connecting to doc-0g-6k-docs.googleusercontent.com (doc-0g-6k-docs.googleusercontent.com)|173.194.217.132|:443... connected.\n",
      "HTTP request sent, awaiting response... 302 Found\n",
      "Location: https://docs.google.com/nonceSigner?nonce=h4r13n641rubu&continue=https://doc-0g-6k-docs.googleusercontent.com/docs/securesc/4vdmbgdamk6n8usaqumtmapnhkcfm287/umvnt3hujmvhj54pre0d843cl2d8slrs/1605727650000/06932581800131476027/15954235057872334163Z/1DOm75xoSPUbnFfcJBjVggPS0hzNEoWCG?e%3Ddownload&hash=6f1vv0kbhkulfuls5j38m98vkibg6u1j [following]\n",
      "--2020-11-18 19:27:42--  https://docs.google.com/nonceSigner?nonce=h4r13n641rubu&continue=https://doc-0g-6k-docs.googleusercontent.com/docs/securesc/4vdmbgdamk6n8usaqumtmapnhkcfm287/umvnt3hujmvhj54pre0d843cl2d8slrs/1605727650000/06932581800131476027/15954235057872334163Z/1DOm75xoSPUbnFfcJBjVggPS0hzNEoWCG?e%3Ddownload&hash=6f1vv0kbhkulfuls5j38m98vkibg6u1j\n",
      "Connecting to docs.google.com (docs.google.com)|142.250.98.139|:443... connected.\n",
      "HTTP request sent, awaiting response... 302 Found\n",
      "Location: https://doc-0g-6k-docs.googleusercontent.com/docs/securesc/4vdmbgdamk6n8usaqumtmapnhkcfm287/umvnt3hujmvhj54pre0d843cl2d8slrs/1605727650000/06932581800131476027/15954235057872334163Z/1DOm75xoSPUbnFfcJBjVggPS0hzNEoWCG?e=download&nonce=h4r13n641rubu&user=15954235057872334163Z&hash=cn8chp4df9k6gc09eqr78jrtgdan2a8f [following]\n",
      "--2020-11-18 19:27:42--  https://doc-0g-6k-docs.googleusercontent.com/docs/securesc/4vdmbgdamk6n8usaqumtmapnhkcfm287/umvnt3hujmvhj54pre0d843cl2d8slrs/1605727650000/06932581800131476027/15954235057872334163Z/1DOm75xoSPUbnFfcJBjVggPS0hzNEoWCG?e=download&nonce=h4r13n641rubu&user=15954235057872334163Z&hash=cn8chp4df9k6gc09eqr78jrtgdan2a8f\n",
      "Connecting to doc-0g-6k-docs.googleusercontent.com (doc-0g-6k-docs.googleusercontent.com)|173.194.217.132|:443... connected.\n",
      "HTTP request sent, awaiting response... 200 OK\n",
      "Length: 50979 (50K) [text/x-python]\n",
      "Saving to: ‘MIfunctions.py’\n",
      "\n",
      "MIfunctions.py      100%[===================>]  49.78K  --.-KB/s    in 0.001s  \n",
      "\n",
      "2020-11-18 19:27:43 (84.5 MB/s) - ‘MIfunctions.py’ saved [50979/50979]\n",
      "\n"
     ]
    }
   ],
   "source": [
    "#%% download data\n",
    "FILEID = \"1DOm75xoSPUbnFfcJBjVggPS0hzNEoWCG\"\n",
    "!wget --load-cookies /tmp/cookies.txt \"https://docs.google.com/uc?export=download&confirm=$(wget --quiet --save-cookies /tmp/cookies.txt --keep-session-cookies --no-check-certificate 'https://docs.google.com/uc?export=download&id='$FILEID -O- | sed -rn 's/.*confirm=([0-9A-Za-z_]+).*/\\1\\n/p')&id=\"$FILEID -O MIfunctions.py && rm -rf /tmp/cookies.txt\n",
    "#%% download data"
   ]
  },
  {
   "cell_type": "code",
   "execution_count": 5,
   "metadata": {},
   "outputs": [],
   "source": [
    "from gcpds.utils import loaddb\n",
    "import sys\n",
    "from scipy.io import loadmat\n",
    "from sklearn.preprocessing import StandardScaler\n",
    "import tensorflow as tf\n",
    "import numpy as np\n",
    "from joblib import dump, load\n",
    "from sklearn.svm import LinearSVC, SVC\n",
    "from sklearn.neighbors import KNeighborsClassifier\n",
    "from sklearn.naive_bayes import GaussianNB\n",
    "from sklearn.tree import DecisionTreeClassifier\n",
    "from sklearn.pipeline import Pipeline\n",
    "from sklearn.linear_model import SGDClassifier\n",
    "from sklearn.model_selection import train_test_split,GridSearchCV, StratifiedShuffleSplit\n",
    "from mne.viz import plot_topomap\n",
    "#from keras_cka_v3 import Keras_CKA # import keras_cka function wrapped for sklearn.\n",
    "from CKA_keras import Keras_CKA # import keras_cka function wrapped for sklearn.\n",
    "from MIfunctions import * #importar todas las funciones de manejo de eeg con mne.\n",
    "import os\n",
    "import time\n",
    "from sklearn.discriminant_analysis import LinearDiscriminantAnalysis as LDA\n",
    "from sklearn.metrics import confusion_matrix, accuracy_score, classification_report, cohen_kappa_score, pairwise_distances\n",
    "from sklearn.metrics import make_scorer"
   ]
  },
  {
   "cell_type": "code",
   "execution_count": 6,
   "metadata": {},
   "outputs": [],
   "source": [
    "from os import listdir\n",
    "from os.path import isfile, isdir\n",
    "path='../input/gcpds-physionet'\n",
    "listdir = listdir(path)"
   ]
  },
  {
   "cell_type": "code",
   "execution_count": 7,
   "metadata": {},
   "outputs": [],
   "source": [
    "tau =  4\n",
    "overlap=1-0.5\n",
    "ti = 4\n",
    "tf = 40\n",
    "tti = np.arange(ti,tf-tau+(tau*overlap),tau*overlap)\n",
    "ttf = np.arange(ti+tau,tf+tau*overlap,tau*overlap)\n",
    "f_frec = np.array([tti,ttf]).T\n",
    "tau =  2\n",
    "step = 0.5\n",
    "ti = 2\n",
    "tf = 6\n",
    "tti = np.arange(ti,tf-tau+(step),step)\n",
    "ttf = np.arange(ti+tau,tf+step,step)\n",
    "vtw = np.array([tti,ttf]).T\n",
    "# db = loaddb.GIGA('Giga')\n",
    "for j in range(51,52):#len(listdir)):\n",
    "    sbj = listdir[j]\n",
    "    XX = loadmat('../input/gcpds-physionet/'+sbj+'/eeg/raw.mat')\n",
    "    data=XX['X']\n",
    "    data[0][0].shape\n",
    "    Xraw = np.array([data[0][j] for j in range(len(data[0]))])\n",
    "    fs = XX['fs'][0][0]\n",
    "    ch = XX['channels'][0]\n",
    "    channels_names = [ch[c][0] for c in range(len(ch))]\n",
    "    yy = XX['y']\n",
    "    y = np.array([yy[j][0] for j in range(len(yy))])-1\n",
    "#     montage = mne.channels.read_montage(db.metadata['montage'], channels_names)\n",
    "#     info = mne.create_info(channels_names, sfreq=fs, ch_types=\"eeg\",montage=montage)\n",
    "    #opt = tf.keras.optimizers.RMSprop(learning_rate=1e-1)\n",
    "#     steps=[('CSP_window_time',Window_band_CSP_eppoch(fs=fs,vtw=vtw,f_frec=f_frec)),\n",
    "#           ('flat',flatt()),\n",
    "#           ('stand',StandardScaler()),\n",
    "#           ('proy',Lasso_feats()),\n",
    "#            ('cla', LDA())]\n",
    "#     method = Pipeline(steps,memory='datospipeline')\n",
    "#     parameters ={'CSP_window_time__ncomp':[6],\n",
    "#             'proy__alpha':[1e-5,0.2,0.4,0.6,0.8,1]}\n",
    "#     scores = {'acc': 'accuracy','kappa': make_scorer(cohen_kappa_score,greater_is_better=True)}    \n",
    "#     cv = StratifiedShuffleSplit(n_splits=10, test_size=0.2, random_state=0)\n",
    "#     grid_search = GridSearchCV(method, parameters,cv=cv,verbose=10,\n",
    "#                                scoring=scores,refit='acc',n_jobs=-1)\n",
    "#     #grid_search = GridSearchCV(method, parameters,cv=cv,verbose=10,\n",
    "#      #                          scoring=kappa_,n_jobs=-1)\n",
    "#     #try:\n",
    "#     grid_search.fit(Xraw,y)\n",
    "#     results = grid_search.cv_results_\n",
    "#     filters = grid_search.best_estimator_['CSP_window_time'].filters\n",
    "#     ncomp = grid_search.best_estimator_['CSP_window_time'].ncomp\n",
    "#     #%% topoplots\n",
    "#     grid_search.best_estimator_.fit(Xraw,y)\n",
    "#     lasso=grid_search.best_estimator_['proy']\n",
    "#     rho = abs(lasso.lasso.coef_)\n",
    "#     rho = rho.reshape((len(vtw),ncomp,-1))\n",
    "#     rhocka = np.zeros((len(vtw),len(f_frec),len(channels_names)))\n",
    "#     ##\n",
    "#     srho = np.sum(rhocka,axis=2)\n",
    "#     r,c = srho.shape\n",
    "#     srho = (srho/np.sum(srho)).ravel()\n",
    "#     indx = np.argsort(srho)[::-1]\n",
    "#     ordsrho = srho[indx]\n",
    "#     cumsumrho = np.cumsum(ordsrho)\n",
    "#     xx = np.arange(len(cumsumrho))+1\n",
    "#     indd = np.argmin(np.sqrt((1-cumsumrho)**2+(xx/np.max(xx))**2))\n",
    "#     vfs = indx[0:xx[indd]]\n",
    "#     Wind_m = vfs//c\n",
    "#     Freq_m = vfs-(Wind_m*c)\n",
    "#     ##\n",
    "#     if np.logical_and(len(f_frec)>1,len(vtw)>1):\n",
    "#         for i in range(len(vtw)):\n",
    "#           for j in range(len(f_frec)):\n",
    "#             rhocka[i,j,:] =  np.sum(np.diag(np.abs(rho[i,:,j])).dot(np.abs(filters[i][:,:,j])),0)\n",
    "#         rhocka -= np.min(rhocka)\n",
    "#         rhocka /= np.max(rhocka)\n",
    "#         f,ax = plt.subplots(len(vtw),len(f_frec),figsize=(20,20))\n",
    "#         cmap='jet'\n",
    "#         for ii in range(len(vtw)):\n",
    "#           for jj in range(len(f_frec)):\n",
    "#               plot_topomap(rhocka[ii,jj,:], info, axes=ax[ii,jj], show=False,cmap=cmap,vmin=np.min(rhocka),vmax=np.max(rhocka))\n",
    "#               ax[ii,jj].set_title('Band '+str(f_frec[jj])+'[Hz]'+'ventana '+str(vtw[ii]))\n",
    "#         cax = f.add_axes([0.95, 0.15, 0.02, 0.75])\n",
    "#         sm = plt.cm.ScalarMappable(cmap=cmap)\n",
    "#         sm.set_array([])\n",
    "#         plt.colorbar(sm,cax=cax)\n",
    "#     elif np.logical_and(len(f_frec)>1,len(vtw)==1):\n",
    "#         for j in range(len(f_frec)):\n",
    "#           rhocka[0,j,:] =  np.sum(np.diag(np.abs(rho[0,:,j])).dot(np.abs(filters[0][:,:,j])),0)\n",
    "#         rhocka=rhocka.squeeze()\n",
    "#         rhocka -= np.min(rhocka)\n",
    "#         rhocka /= np.max(rhocka)\n",
    "#         f,ax = plt.subplots(len(f_frec),1,figsize=(20,20))\n",
    "#         cmap='jet'\n",
    "#         for jj in range(len(f_frec)):\n",
    "#             plot_topomap(rhocka[jj,:], info, axes=ax[jj], show=False,cmap=cmap,vmin=np.min(rhocka),vmax=np.max(rhocka))\n",
    "#             ax[jj].set_title('Band '+str(f_frec[jj])+'[Hz]'+'ventana '+str(vtw))\n",
    "#         cax = f.add_axes([0.95, 0.15, 0.02, 0.75])\n",
    "#         sm = plt.cm.ScalarMappable(cmap=cmap)\n",
    "#         sm.set_array([])\n",
    "#         plt.colorbar(sm,cax=cax)  \n",
    "#     else:\n",
    "#         for i in range(len(vtw)):\n",
    "#             rhocka[i,:] =  np.sum(np.diag(np.abs(rho[i,:,0])).dot(np.abs(filters[i][:,:,0])),0)\n",
    "#         rhocka -= np.min(rhocka)\n",
    "#         rhocka /= np.max(rhocka)\n",
    "#         f,ax = plt.subplots(len(vtw),1,figsize=(20,20))\n",
    "#         cmap='jet'\n",
    "#         for ii in range(len(vtw)):\n",
    "#               plot_topomap(rhocka[ii,0,:], info, axes=ax[ii], show=False,cmap=cmap,vmin=np.min(rhocka),vmax=np.max(rhocka))\n",
    "#               ax[ii].set_title('Band '+str(f_frec[0])+'[Hz]'+'ventana '+str(vtw[ii]))\n",
    "#         cax = f.add_axes([0.95, 0.15, 0.02, 0.75])\n",
    "#         sm.set_array([])\n",
    "#         plt.colorbar(sm,cax=cax)   \n",
    "#     plt.savefig('sbj'+str(sbj)+'acc'+str(np.round(grid_search.best_score_,2))+'.eps',format='eps')#,dpi=300)\n",
    "#     #plt.savefig('sbj'+str(sbj)+'kappa'+str(np.round(grid_search.best_score_,2))+'.png',format='png')#,dpi=300)\n",
    "#     savedata ={\n",
    "#         'Wind_m':Wind_m,\n",
    "#         'Freq_m':Freq_m,\n",
    "#         'steps':steps,\n",
    "#         'f_frec':f_frec,\n",
    "#         'vtw':vtw,\n",
    "#         'best_param':grid_search.best_params_,\n",
    "#         'rhocka':rhocka,        \n",
    "#         'cv_results':results\n",
    "#     }\n",
    "#     #dump(savedata,'sujeto_'+str(sbj)+'_cka_featuresCSP_BCI2a_acc.joblib')\n",
    "#     dump(savedata,'sujeto_'+str(sbj)+'_lasso_featuresCSP_GIGA_acc.joblib')\n",
    "#     print('sbj'+str(sbj)+'acc'+str(np.round(grid_search.best_score_*100,4)))\n",
    "#     !zip Results-joblib.zip ./*.joblib\n",
    "#     !zip Results-images.zip ./*.eps"
   ]
  },
  {
   "cell_type": "code",
   "execution_count": 8,
   "metadata": {},
   "outputs": [],
   "source": [
    "tau =  4\n",
    "overlap=1-0.5\n",
    "ti = 4\n",
    "tf = 40\n",
    "tti = np.arange(ti,tf-tau+(tau*overlap),tau*overlap)\n",
    "ttf = np.arange(ti+tau,tf+tau*overlap,tau*overlap)\n",
    "f_frec = np.array([tti,ttf]).T\n",
    "tau =  2\n",
    "step = 0.5\n",
    "ti = 2\n",
    "tf = 6\n",
    "tti = np.arange(ti,tf-tau+(step),step)\n",
    "ttf = np.arange(ti+tau,tf+step,step)\n",
    "vtw = np.array([tti,ttf]).T\n",
    "\n",
    "j = 51\n",
    "sbj = listdir[j]\n",
    "XX = loadmat('../input/gcpds-physionet/'+sbj+'/eeg/raw.mat')\n",
    "data=XX['X']\n",
    "data[0][0].shape\n",
    "Xraw = np.array([data[0][j] for j in range(len(data[0]))])\n",
    "fs = XX['fs'][0][0]\n",
    "ch = XX['channels'][0]\n",
    "channels_names = [ch[c][0] for c in range(len(ch))]\n",
    "yy = XX['y']\n",
    "y = np.array([yy[j][0] for j in range(len(yy))])-1\n",
    "# montage = mne.channels.read_montage(db.metadata['montage'], channels_names)\n",
    "# info = mne.create_info(channels_names, sfreq=fs, ch_types=\"eeg\",montage=montage)\n"
   ]
  },
  {
   "cell_type": "code",
   "execution_count": 20,
   "metadata": {},
   "outputs": [],
   "source": [
    "import mne\n",
    "import numpy as np\n",
    "from typing import List\n",
    "\n",
    "def get_epochs(data: np.ndarray, classes: np.ndarray,  labels:List[str], \n",
    "               tmin:int, montage_name:str, sampling_rate:int, \n",
    "               channels_names:List[str], **kwargs) -> mne.EpochsArray:\n",
    "    \"\"\"\n",
    "    Creates a `mne.Epochs` with their respective montage information from raw data.\n",
    "    \n",
    "    Parameters\n",
    "    ----------\n",
    "    \n",
    "    data\n",
    "        Numpy array with the shape (trials, channels, time).\n",
    "    classes\n",
    "        Numpy array with the labels as integers.\n",
    "    labels\n",
    "        The label descriptor for each class.\n",
    "    tmin\n",
    "        Time in seconds before the event, is used to center the event in t=0,\n",
    "        is negative.\n",
    "    montage_name\n",
    "        One of the montages defined in `mne.channels.get_builtin_montages()`.\n",
    "    sampling_rate\n",
    "        Sample frecuency.\n",
    "    channels_names\n",
    "        List of channels names, no matter the capitalization.\n",
    "\n",
    "    Returns\n",
    "    -------\n",
    "    epochs\n",
    "        The `mne.EpochsArray` object.\n",
    "    \"\"\"\n",
    "\n",
    "    montage = mne.channels.make_standard_montage(montage_name)\n",
    "\n",
    "    # Channels names with the MNE standard capitalization \n",
    "    source = channels_names\n",
    "    target = montage.ch_names\n",
    "    channels_names = []\n",
    "    for ch_s in source:\n",
    "        for ch_t in target:\n",
    "            if ch_s.lower().strip() == ch_t.lower().strip():\n",
    "                channels_names.append(ch_t)\n",
    "\n",
    "    # Missing channels\n",
    "    channels_missings = set(channels_names).difference(set(montage.ch_names))\n",
    "    if channels_missings:\n",
    "        print(f\"Missing {channels_missings} channels in {montage_name} montage.\\n\"\n",
    "              f\"Missing channels will be removed from MNE Epochs\")\n",
    "\n",
    "    # Info\n",
    "    info = mne.create_info(list(channels_names), sfreq=sampling_rate, ch_types=\"eeg\")\n",
    "    info.set_montage(montage_name)\n",
    "\n",
    "    # Events\n",
    "    events = [[i, 1, cls] for i, cls in enumerate(classes)]\n",
    "    event_id = {e: i for i, e in enumerate(labels)}\n",
    "\n",
    "    return mne.EpochsArray(data, info, events=events, tmin=tmin, event_id=event_id, **kwargs)"
   ]
  },
  {
   "cell_type": "code",
   "execution_count": 21,
   "metadata": {},
   "outputs": [
    {
     "name": "stdout",
     "output_type": "stream",
     "text": [
      "Not setting metadata\n",
      "Not setting metadata\n",
      "42 matching events found\n",
      "No baseline correction applied\n",
      "0 projection items activated\n",
      "0 bad epochs dropped\n"
     ]
    }
   ],
   "source": [
    "epochs = get_epochs(data=Xraw, classes=y, labels=['right hand', 'left hand'], tmin=-2, montage_name='standard_1005', sampling_rate=fs, channels_names=channels_names)"
   ]
  },
  {
   "cell_type": "code",
   "execution_count": 18,
   "metadata": {},
   "outputs": [
    {
     "name": "stdout",
     "output_type": "stream",
     "text": [
      "Creating RawArray with float64 data, n_channels=64, n_times=1\n",
      "    Range : 0 ... 0 =      0.000 ...     0.000 secs\n",
      "Ready.\n"
     ]
    },
    {
     "data": {
      "image/png": "[encoded data removed]",
      "text/plain": [
       "<Figure size 432x432 with 1 Axes>"
      ]
     },
     "metadata": {
      "needs_background": "light"
     },
     "output_type": "display_data"
    }
   ],
   "source": [
    "montage = epochs.get_montage()\n",
    "montage.plot(kind='topomap', show_names=True);"
   ]
  },
  {
   "cell_type": "code",
   "execution_count": null,
   "metadata": {},
   "outputs": [],
   "source": [
    "evoked = epochs['a'].average()\n",
    "\n",
    "fig = plt.figure(figsize=(10, 5), dpi=90)\n",
    "ax = plt.subplot(111)\n",
    "evoked.plot(axes=ax, spatial_colors=True);"
   ]
  },
  {
   "cell_type": "code",
   "execution_count": null,
   "metadata": {},
   "outputs": [],
   "source": [
    "times = np.linspace(0, 4, 6)\n",
    "\n",
    "epochs['a'].average().plot_topomap(times,)"
   ]
  },
  {
   "cell_type": "code",
   "execution_count": null,
   "metadata": {},
   "outputs": [],
   "source": [
    "evoked = epochs['a'].average()\n",
    "evoked = evoked.filter(3, 30)\n",
    "\n",
    "times = np.linspace(0, 4, 12)\n",
    "evoked.plot_topomap(times, ncols=4, nrows=3);\n"
   ]
  },
  {
   "cell_type": "code",
   "execution_count": null,
   "metadata": {},
   "outputs": [],
   "source": [
    "results['mean_test_acc']"
   ]
  },
  {
   "cell_type": "code",
   "execution_count": null,
   "metadata": {},
   "outputs": [],
   "source": [
    "import time\n",
    "for i in range(len(listdir)):\n",
    "    if listdir[i] == 'S072':\n",
    "        print('Pos '+str(i)+' Sub '+str(listdir[i]))"
   ]
  }
 ],
 "metadata": {
  "kernelspec": {
   "display_name": "Python 3",
   "language": "python",
   "name": "python3"
  },
  "language_info": {
   "codemirror_mode": {
    "name": "ipython",
    "version": 3
   },
   "file_extension": ".py",
   "mimetype": "text/x-python",
   "name": "python",
   "nbconvert_exporter": "python",
   "pygments_lexer": "ipython3",
   "version": "3.8.6"
  }
 },
 "nbformat": 4,
 "nbformat_minor": 4
}
