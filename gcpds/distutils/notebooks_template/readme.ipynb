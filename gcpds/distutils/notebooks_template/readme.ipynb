{
 "cells": [
  {
   "cell_type": "markdown",
   "id": "d45e9dc5-fa8f-4f2f-8c9d-bafd1ea0937a",
   "metadata": {},
   "source": [
    "{{PKG_NAME}}"
   ]
  }
 ],
 "metadata": {
  "kernelspec": {
   "display_name": "Python 3 (ipykernel)",
   "language": "python",
   "name": "python3"
  },
  "language_info": {
   "codemirror_mode": {
    "name": "ipython",
    "version": 3
   },
   "file_extension": ".py",
   "mimetype": "text/x-python",
   "name": "python",
   "nbconvert_exporter": "python",
   "pygments_lexer": "ipython3",
   "version": "3.10.4"
  }
 },
 "nbformat": 4,
 "nbformat_minor": 5
}
